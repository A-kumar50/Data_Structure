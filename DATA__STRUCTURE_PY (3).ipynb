{
  "nbformat": 4,
  "nbformat_minor": 0,
  "metadata": {
    "colab": {
      "provenance": []
    },
    "kernelspec": {
      "name": "python3",
      "display_name": "Python 3"
    },
    "language_info": {
      "name": "python"
    }
  },
  "cells": [
    {
      "cell_type": "markdown",
      "source": [],
      "metadata": {
        "id": "P3imuwElrTDJ"
      }
    },
    {
      "cell_type": "markdown",
      "source": [
        "#1. What are data structures, and why are they important?\n",
        "-> A data structure is a way of organizing and storing data so that\n",
        " we can use it easily and efficiently.think of it like a bookshelf- it helps\n",
        " keep books arranged in a way that makes it easy to find and use.\n",
        "\n",
        "# why are data structures important?\n",
        "\n",
        "1. fater searching:- Like a dictionary helps find words quickly\n",
        "2. Better Orgnization:- Like folders on a computer help store files neatly.\n",
        "3. Efficient use of memory:- Like packing a suitcase properly saves space."
      ],
      "metadata": {
        "id": "cOSWt9qlwuNL"
      }
    },
    {
      "cell_type": "markdown",
      "source": [
        "#2. Explain the difference between mutable and immutable data types with example.\n",
        "\n"
      ],
      "metadata": {
        "id": "WE50CK6Yu5aD"
      }
    },
    {
      "cell_type": "markdown",
      "source": [
        "#Difference betwee mutable and immutable data types.\n",
        "-> in programming, mutable refer to whether data can be changed after creation\n",
        "   or not.\n",
        "\n",
        "   >> Mutable (can be change) :- data can be modified after creation.\n",
        "   \n",
        "   for example:- List, Dictionary, set\n",
        "\n",
        "   >> immutable (cannot change):- data cannnot be changed after creation.\n",
        "   \n",
        "   for example:- Sting, Tuple, integer\n",
        "\n",
        "\n",
        "\n",
        "\n"
      ],
      "metadata": {
        "id": "ZXD1urO-w5R-"
      }
    },
    {
      "cell_type": "code",
      "source": [
        "# Example in Python\n",
        "# Mutable data types\n",
        "\n",
        "my_list = [1, 2, 3]\n",
        "my_list.append(4)\n",
        "print(my_list)  # Output: [1, 2, 3, 4]\n",
        "\n",
        "# The list changed after adding 4."
      ],
      "metadata": {
        "colab": {
          "base_uri": "https://localhost:8080/"
        },
        "id": "2rUiIxX_ypFk",
        "outputId": "60634d9d-c72f-421d-df40-be97e090d22c"
      },
      "execution_count": null,
      "outputs": [
        {
          "output_type": "stream",
          "name": "stdout",
          "text": [
            "[1, 2, 3, 4]\n"
          ]
        }
      ]
    },
    {
      "cell_type": "code",
      "source": [
        "# Immutable Example (String)\n",
        "my_string = \"Hellow\"\n",
        "\n",
        "# Strings are immutable, so we create a new string\n",
        "new_string = \"y\" + my_string[1:]\n",
        "\n",
        "print(my_string)  # Hellow\n",
        "print(new_string)  # yellow\n"
      ],
      "metadata": {
        "colab": {
          "base_uri": "https://localhost:8080/"
        },
        "id": "Ti-NMYbDzNmI",
        "outputId": "d6b44d0f-0e05-4c48-df65-05fc555b9867"
      },
      "execution_count": null,
      "outputs": [
        {
          "output_type": "stream",
          "name": "stdout",
          "text": [
            "Hellow\n",
            "yellow\n"
          ]
        }
      ]
    },
    {
      "cell_type": "markdown",
      "source": [
        "#3. What are the main differences between lists and tuples in Python?\n",
        "-> A list in Python is a type of collection that you can change after creating it. you can add, remove, or change items in a list. it's written with square brackets[]. A tuple is similar, but you cannot change its items once it's made. it's wirtten with round brackets (). List are more flexible but a bit slower, while tuples are faster and use less memory.\n",
        "\n"
      ],
      "metadata": {
        "id": "ALcqIGUo0gCS"
      }
    },
    {
      "cell_type": "code",
      "source": [
        "# Original tuple (Immutable)\n",
        "my_tuple = (1, 2, 3)\n",
        "\n",
        "# Creating a new tuple with the modified value\n",
        "new_tuple = (4,) + my_tuple[1:]  # Changing first element to 4\n",
        "\n",
        "print(\"Original Tuple:\", my_tuple)  # (1, 2, 3)\n",
        "print(\"Modified Tuple:\", new_tuple)  # (4, 2, 3)\n"
      ],
      "metadata": {
        "colab": {
          "base_uri": "https://localhost:8080/"
        },
        "id": "iPfCLZxN2K3f",
        "outputId": "8292f750-dfca-4138-bae7-d5d81b866a97"
      },
      "execution_count": null,
      "outputs": [
        {
          "output_type": "stream",
          "name": "stdout",
          "text": [
            "Original Tuple: (1, 2, 3)\n",
            "Modified Tuple: (4, 2, 3)\n"
          ]
        }
      ]
    },
    {
      "cell_type": "markdown",
      "source": [
        "#4. Describe how dictionaries store data?\n",
        "->> A dictionary in Python stores data in pairs. Each pair has a key and value. The key is like a label, and the value is the data you want to store. You can use the key to quickly find or change the value.\n"
      ],
      "metadata": {
        "id": "pAxwuS-Q20N1"
      }
    },
    {
      "cell_type": "markdown",
      "source": [],
      "metadata": {
        "id": "sEdc_Ys232G7"
      }
    },
    {
      "cell_type": "code",
      "source": [
        "my_dict = {'name': 'john', 'age': 25}\n",
        "print(my_dict['name'])  # Output: john\n",
        "\n",
        "#'name' is the key, and 'john' is the value\n",
        "#'age' is the key, and 25 is the value."
      ],
      "metadata": {
        "colab": {
          "base_uri": "https://localhost:8080/"
        },
        "id": "6uu7-3pU4Vq0",
        "outputId": "5393127a-57c3-4ea1-8e38-69fa270a4c4d"
      },
      "execution_count": null,
      "outputs": [
        {
          "output_type": "stream",
          "name": "stdout",
          "text": [
            "john\n"
          ]
        }
      ]
    },
    {
      "cell_type": "markdown",
      "source": [
        "#5. Why might you use a set instead of a list in Python?\n",
        "\n",
        "*   A set automaticlly removes duplicates.\n",
        "*   searching in a set is faster than in a list.\n",
        "*   useful for operations like finding common elements between two sets.\n",
        "\n"
      ],
      "metadata": {
        "id": "5owQd54BIG4I"
      }
    },
    {
      "cell_type": "markdown",
      "source": [
        "#6. What is a string in Python, and how is it different from a list?\n",
        "\n",
        "\n",
        "*   A string is a sequence of characters (\"hello\").\n",
        "*   a string is immutable (can not be changed),\n",
        "while a list (['h','e','l','l','o]) is mutable (can be changed).\n",
        "\n",
        "\n"
      ],
      "metadata": {
        "id": "ps2a5mcyMTgC"
      }
    },
    {
      "cell_type": "markdown",
      "source": [
        "#7. How do tuples ensure data integrity in Python?\n",
        "\n",
        "\n",
        "*   Since tuples cannot be changed. they ensure data remains safe and unchanged, preventing accidental modifications.\n",
        "\n",
        "\n",
        "\n",
        "\n"
      ],
      "metadata": {
        "id": "kNRoHXQtNiW7"
      }
    },
    {
      "cell_type": "markdown",
      "source": [
        "#8. What is a hash table, and how does it relate to dictionaries in Python?\n",
        "\n",
        "\n",
        "\n",
        "*   A hash table is a data structure that quickly finds and stores data using a\n",
        "unique key.\n",
        "\n",
        "*   Python dictionaries use hash tables to store key-value pairs for fast lookups.\n",
        "\n",
        "\n",
        "\n",
        "\n"
      ],
      "metadata": {
        "id": "nJleRpSUOy8o"
      }
    },
    {
      "cell_type": "markdown",
      "source": [
        "#9. Can lists contain different data types in Python?\n",
        "Yes, lists can contain different data types:\n",
        "\n"
      ],
      "metadata": {
        "id": "h7ZdgDpwRQpx"
      }
    },
    {
      "cell_type": "code",
      "source": [
        "my_list = [1, \"hello\", 3.14, True]\n"
      ],
      "metadata": {
        "id": "81N0oWH1wAvS"
      },
      "execution_count": null,
      "outputs": []
    },
    {
      "cell_type": "markdown",
      "source": [
        "#10. Explain why strings are immutable in Python.\n",
        "\n",
        "\n",
        "*   Strings are immutable to ensure security, performance, and memory optimization.\n",
        "\n",
        "\n"
      ],
      "metadata": {
        "id": "tTfd_5ADRyKg"
      }
    },
    {
      "cell_type": "markdown",
      "source": [
        "#11. What advantages do dictionaries offer over lists for certain tasks?\n",
        "\n",
        "*   Faster lookups (O(1) vs O(n)).\n",
        "\n",
        "*   Organized key-value storage.\n",
        "\n",
        "\n",
        "*   Easier retrieval of data.\n",
        "\n"
      ],
      "metadata": {
        "id": "WELAGfvmSBRL"
      }
    },
    {
      "cell_type": "markdown",
      "source": [
        "#12. Describe a scenario where using a tuple would be preferable over a list.\n",
        "\n",
        "\n",
        "*   If you want to store constant values that should not change, like coordinates ((10, 20)).\n",
        "\n",
        "\n",
        "\n",
        "\n"
      ],
      "metadata": {
        "id": "K5Z72DdFTSa6"
      }
    },
    {
      "cell_type": "markdown",
      "source": [
        "#13. How do sets handle duplicate values in Python?\n",
        "\n",
        "\n",
        "*   Sets automatically remove duplicates.\n",
        "\n"
      ],
      "metadata": {
        "id": "GULrIn8JTpr9"
      }
    },
    {
      "cell_type": "code",
      "source": [
        "my_set = {1, 2, 2, 3}  # Result: {1, 2, 3}\n"
      ],
      "metadata": {
        "id": "y7dSTp__TyJW"
      },
      "execution_count": null,
      "outputs": []
    },
    {
      "cell_type": "markdown",
      "source": [
        "#14. How does the “in” keyword work differently for lists and dictionaries?\n",
        "\n",
        "\n",
        "\n",
        "*   In lists, it checks for the presence of a value.\n",
        "\n",
        "*   In dictionaries, it checks for the presence of a key.\n",
        "\n",
        "\n"
      ],
      "metadata": {
        "id": "J5HHFwieUB6L"
      }
    },
    {
      "cell_type": "markdown",
      "source": [
        "#15. Can you modify the elements of a tuple? Explain why or why not.\n",
        "> No, because tuples are immutable.\n",
        "\n"
      ],
      "metadata": {
        "id": "gBQyRwyBULTf"
      }
    },
    {
      "cell_type": "markdown",
      "source": [
        "#16. No, because tuples are immutable.\n",
        "> A dictionary inside another dictionary. Example:\n",
        "\n",
        "\n",
        "\n"
      ],
      "metadata": {
        "id": "CnAV_kIMUXa6"
      }
    },
    {
      "cell_type": "code",
      "source": [
        "student = {\"name\": \"Alice\", \"grades\": {\"math\": 90, \"science\": 85}}\n"
      ],
      "metadata": {
        "id": "u6qz4JTZUeOW"
      },
      "execution_count": null,
      "outputs": []
    },
    {
      "cell_type": "markdown",
      "source": [
        "#17. Describe the time complexity of accessing elements in a dictionary.\n",
        ">>O(1) (constant time) for accessing elements.\n",
        "\n"
      ],
      "metadata": {
        "id": "xxUMXgcwUiua"
      }
    },
    {
      "cell_type": "markdown",
      "source": [
        "#18. In what situations are lists preferred over dictionaries?\n",
        "\n",
        "\n",
        "\n",
        "*   When order matters.\n",
        "\n",
        "*   When you don’t need key-value pairs.\n",
        "\n",
        "\n"
      ],
      "metadata": {
        "id": "TXO0Zl6YUrNX"
      }
    },
    {
      "cell_type": "markdown",
      "source": [
        "#19. Why are dictionaries considered unordered, and how does that affect data retrieval?\n",
        ">Dictionaries store data in hash tables, meaning order is not maintained (before Python 3.7).\n"
      ],
      "metadata": {
        "id": "MwAAHTDiU0fa"
      }
    },
    {
      "cell_type": "markdown",
      "source": [
        "#20. Explain the difference between a list and a dictionary in terms of data retrieval.\n",
        "\n",
        "\n",
        "\n",
        "*   List: Uses index (O(n) time complexity).\n",
        "\n",
        "*   Dictionary: Uses keys (O(1) time complexity).\n",
        "\n",
        "\n"
      ],
      "metadata": {
        "id": "ITKEFzVBU72N"
      }
    },
    {
      "cell_type": "markdown",
      "source": [
        "#Practical Questions\n",
        "#1. Wri:6 a E4d6 :4 Er6a:6 a s:ring wi:h y4ur nam6 and prin: i:P"
      ],
      "metadata": {
        "id": "8hqu7rUmV_kg"
      }
    },
    {
      "cell_type": "code",
      "source": [
        "name = \"Aman\"\n",
        "print(name)\n"
      ],
      "metadata": {
        "colab": {
          "base_uri": "https://localhost:8080/"
        },
        "id": "bvDtcFPuWQhG",
        "outputId": "e3336f5c-dd16-40de-9ef8-0f7780e09f41"
      },
      "execution_count": null,
      "outputs": [
        {
          "output_type": "stream",
          "name": "stdout",
          "text": [
            "Aman\n"
          ]
        }
      ]
    },
    {
      "cell_type": "markdown",
      "source": [
        "#2. Find the length of the string \"Hello World\".\n"
      ],
      "metadata": {
        "id": "6x-Qg-Z2WrnO"
      }
    },
    {
      "cell_type": "code",
      "source": [
        "print(len(\"Hello World\"))\n"
      ],
      "metadata": {
        "colab": {
          "base_uri": "https://localhost:8080/"
        },
        "id": "OLpfAELJW096",
        "outputId": "7d2b3fd2-421d-4e05-ded8-e979980ab7d9"
      },
      "execution_count": null,
      "outputs": [
        {
          "output_type": "stream",
          "name": "stdout",
          "text": [
            "11\n"
          ]
        }
      ]
    },
    {
      "cell_type": "markdown",
      "source": [
        "#3. Slice the first 3 characters from \"Python Programming\".\n",
        "\n"
      ],
      "metadata": {
        "id": "Z1c23Y5hW4mf"
      }
    },
    {
      "cell_type": "code",
      "source": [
        "print(\"Python Programming\"[:3])\n"
      ],
      "metadata": {
        "colab": {
          "base_uri": "https://localhost:8080/"
        },
        "id": "tNqyj78XW9Vd",
        "outputId": "077687be-6a70-4943-9876-7417798b0308"
      },
      "execution_count": null,
      "outputs": [
        {
          "output_type": "stream",
          "name": "stdout",
          "text": [
            "Pyt\n"
          ]
        }
      ]
    },
    {
      "cell_type": "markdown",
      "source": [
        "#4. Convert \"hello\" to uppercase.\n"
      ],
      "metadata": {
        "id": "uidGWxQUXBcl"
      }
    },
    {
      "cell_type": "markdown",
      "source": [],
      "metadata": {
        "id": "Wt4L9syNUKAY"
      }
    },
    {
      "cell_type": "code",
      "source": [
        "print(\"hello\".upper())\n"
      ],
      "metadata": {
        "colab": {
          "base_uri": "https://localhost:8080/"
        },
        "id": "qd9fjasSXE0H",
        "outputId": "c4759d34-07c6-4960-961e-24ad55fcfbd7"
      },
      "execution_count": null,
      "outputs": [
        {
          "output_type": "stream",
          "name": "stdout",
          "text": [
            "HELLO\n"
          ]
        }
      ]
    },
    {
      "cell_type": "markdown",
      "source": [
        "#5. Replace \"apple\" with \"orange\" in \"I like apple\".\n"
      ],
      "metadata": {
        "id": "sjycHFfXXKzA"
      }
    },
    {
      "cell_type": "markdown",
      "source": [],
      "metadata": {
        "id": "Q5dkLxm8R8rs"
      }
    },
    {
      "cell_type": "code",
      "source": [
        "print(\"I like apple\".replace(\"apple\", \"orange\"))\n"
      ],
      "metadata": {
        "colab": {
          "base_uri": "https://localhost:8080/"
        },
        "id": "mtKS8tcRXN42",
        "outputId": "d97486df-a5f0-449d-c48c-4f7507969867"
      },
      "execution_count": null,
      "outputs": [
        {
          "output_type": "stream",
          "name": "stdout",
          "text": [
            "I like orange\n"
          ]
        }
      ]
    },
    {
      "cell_type": "markdown",
      "source": [
        "#6. Create a list with numbers 1 to 5 and print it."
      ],
      "metadata": {
        "id": "8g3CeamSXUMD"
      }
    },
    {
      "cell_type": "code",
      "source": [
        "my_list = [1, 2, 3, 4, 5]\n",
        "print(my_list)\n"
      ],
      "metadata": {
        "colab": {
          "base_uri": "https://localhost:8080/"
        },
        "id": "6qrHlW1ZXW8Q",
        "outputId": "1d4c177d-b8d2-45d9-9d57-50d1054a57eb"
      },
      "execution_count": null,
      "outputs": [
        {
          "output_type": "stream",
          "name": "stdout",
          "text": [
            "[1, 2, 3, 4, 5]\n"
          ]
        }
      ]
    },
    {
      "cell_type": "markdown",
      "source": [
        "#7. Append 10 to [1, 2, 3, 4].\n",
        "\n"
      ],
      "metadata": {
        "id": "q__y54NgXc56"
      }
    },
    {
      "cell_type": "code",
      "source": [
        "my_list = [1, 2, 3, 4]\n",
        "my_list.append(10)\n",
        "print(my_list)\n"
      ],
      "metadata": {
        "colab": {
          "base_uri": "https://localhost:8080/"
        },
        "id": "GXDT8_feXfbe",
        "outputId": "be3816fa-dc83-44ab-aee8-ee1dabe1d167"
      },
      "execution_count": null,
      "outputs": [
        {
          "output_type": "stream",
          "name": "stdout",
          "text": [
            "[1, 2, 3, 4, 10]\n"
          ]
        }
      ]
    },
    {
      "cell_type": "markdown",
      "source": [
        "#8. Remove 3 from [1, 2, 3, 4, 5].\n"
      ],
      "metadata": {
        "id": "f8htZHctXifX"
      }
    },
    {
      "cell_type": "code",
      "source": [
        "my_list = [1, 2, 3, 4, 5]\n",
        "my_list.remove(3)\n",
        "print(my_list)\n"
      ],
      "metadata": {
        "colab": {
          "base_uri": "https://localhost:8080/"
        },
        "id": "X0dXOuCNXpSz",
        "outputId": "0d057ace-4049-4ff6-9451-2492a8c287da"
      },
      "execution_count": null,
      "outputs": [
        {
          "output_type": "stream",
          "name": "stdout",
          "text": [
            "[1, 2, 4, 5]\n"
          ]
        }
      ]
    },
    {
      "cell_type": "markdown",
      "source": [
        "#9. Access the second element in ['a', 'b', 'c', 'd'].\n"
      ],
      "metadata": {
        "id": "xIgVdU8EXuHI"
      }
    },
    {
      "cell_type": "code",
      "source": [
        "print(['a', 'b', 'c', 'd'][1])\n"
      ],
      "metadata": {
        "colab": {
          "base_uri": "https://localhost:8080/"
        },
        "id": "JhUwDYqTXnBP",
        "outputId": "b6ea70e7-c2ee-4556-ba51-016ea370d8f2"
      },
      "execution_count": null,
      "outputs": [
        {
          "output_type": "stream",
          "name": "stdout",
          "text": [
            "b\n"
          ]
        }
      ]
    },
    {
      "cell_type": "markdown",
      "source": [
        "#10. Reverse [10, 20, 30, 40, 50].\n"
      ],
      "metadata": {
        "id": "eKTFsaKsX1dd"
      }
    },
    {
      "cell_type": "code",
      "source": [
        "my_list = [10, 20, 30, 40, 50]\n",
        "print(my_list[::-1])\n"
      ],
      "metadata": {
        "colab": {
          "base_uri": "https://localhost:8080/"
        },
        "id": "DCXP3SErXx4t",
        "outputId": "7faeb7b0-76d2-4a56-b8f6-c6080a7819a5"
      },
      "execution_count": null,
      "outputs": [
        {
          "output_type": "stream",
          "name": "stdout",
          "text": [
            "[50, 40, 30, 20, 10]\n"
          ]
        }
      ]
    },
    {
      "cell_type": "markdown",
      "source": [
        "#11. Create a tuple (100, 200, 300).\n"
      ],
      "metadata": {
        "id": "riX2NhxaX_dy"
      }
    },
    {
      "cell_type": "code",
      "source": [
        "my_tuple = (100, 200, 300)\n",
        "print(my_tuple)\n"
      ],
      "metadata": {
        "colab": {
          "base_uri": "https://localhost:8080/"
        },
        "id": "pM6F6QQfYC2o",
        "outputId": "9de9cac8-4be8-46de-b6c5-a21b4556cdde"
      },
      "execution_count": null,
      "outputs": [
        {
          "output_type": "stream",
          "name": "stdout",
          "text": [
            "(100, 200, 300)\n"
          ]
        }
      ]
    },
    {
      "cell_type": "markdown",
      "source": [],
      "metadata": {
        "id": "e0tPid5xYh9W"
      }
    },
    {
      "cell_type": "markdown",
      "source": [
        "#11. Create a tuple (100, 200, 300)."
      ],
      "metadata": {
        "id": "ddEC2ClxZKh7"
      }
    },
    {
      "cell_type": "code",
      "source": [
        "my_tuple = (100, 200, 300)\n",
        "print(my_tuple)\n"
      ],
      "metadata": {
        "colab": {
          "base_uri": "https://localhost:8080/"
        },
        "id": "XFMMUuilZOsy",
        "outputId": "d80b632c-a2c8-42f7-8ead-8010ef1377c7"
      },
      "execution_count": null,
      "outputs": [
        {
          "output_type": "stream",
          "name": "stdout",
          "text": [
            "(100, 200, 300)\n"
          ]
        }
      ]
    },
    {
      "cell_type": "markdown",
      "source": [
        "#12. Access the second-to-last element of ('red', 'green', 'blue', 'yellow').\n"
      ],
      "metadata": {
        "id": "n-2_q51bZRtx"
      }
    },
    {
      "cell_type": "code",
      "source": [
        "print(('red', 'green', 'blue', 'yellow')[-2])\n"
      ],
      "metadata": {
        "colab": {
          "base_uri": "https://localhost:8080/"
        },
        "id": "IwZ_0T91ZU54",
        "outputId": "05b62139-e6b8-4e04-d044-9aa1ced41a5a"
      },
      "execution_count": null,
      "outputs": [
        {
          "output_type": "stream",
          "name": "stdout",
          "text": [
            "blue\n"
          ]
        }
      ]
    },
    {
      "cell_type": "markdown",
      "source": [
        "#13. Find the minimum number in (10, 20, 5, 15).\n"
      ],
      "metadata": {
        "id": "gzvgYB1AZaqt"
      }
    },
    {
      "cell_type": "code",
      "source": [
        "print(min((10, 20, 5, 15)))\n"
      ],
      "metadata": {
        "colab": {
          "base_uri": "https://localhost:8080/"
        },
        "id": "VKMEhImAZctG",
        "outputId": "65ea549e-823b-4042-f5af-57c8dd18f5ce"
      },
      "execution_count": null,
      "outputs": [
        {
          "output_type": "stream",
          "name": "stdout",
          "text": [
            "5\n"
          ]
        }
      ]
    },
    {
      "cell_type": "markdown",
      "source": [
        "#14. Find the index of \"cat\" in ('dog', 'cat', 'rabbit').\n"
      ],
      "metadata": {
        "id": "zmyRyXyWZfMx"
      }
    },
    {
      "cell_type": "code",
      "source": [
        "print(('dog', 'cat', 'rabbit').index(\"cat\"))\n"
      ],
      "metadata": {
        "colab": {
          "base_uri": "https://localhost:8080/"
        },
        "id": "qVTIWjKYZjEZ",
        "outputId": "62eca9f0-474a-4725-e866-3c2cc1a1898d"
      },
      "execution_count": null,
      "outputs": [
        {
          "output_type": "stream",
          "name": "stdout",
          "text": [
            "1\n"
          ]
        }
      ]
    },
    {
      "cell_type": "markdown",
      "source": [
        "#15. Check if \"kiwi\" is in a tuple of fruits.\n"
      ],
      "metadata": {
        "id": "E9jMA9h1Zl-Z"
      }
    },
    {
      "cell_type": "code",
      "source": [
        "fruits = (\"apple\", \"banana\", \"cherry\")\n",
        "print(\"kiwi\" in fruits)\n"
      ],
      "metadata": {
        "colab": {
          "base_uri": "https://localhost:8080/"
        },
        "id": "qo4ClkSWZpnX",
        "outputId": "e710051e-3f2e-45ca-9645-ec0220c6db6f"
      },
      "execution_count": null,
      "outputs": [
        {
          "output_type": "stream",
          "name": "stdout",
          "text": [
            "False\n"
          ]
        }
      ]
    },
    {
      "cell_type": "markdown",
      "source": [
        "#16. 16. Create a set with elements 'a', 'b', 'c' and print it.\n"
      ],
      "metadata": {
        "id": "fVGJaVceZ08-"
      }
    },
    {
      "cell_type": "code",
      "source": [
        "my_set = {'a', 'b', 'c'}\n",
        "print(my_set)\n"
      ],
      "metadata": {
        "colab": {
          "base_uri": "https://localhost:8080/"
        },
        "id": "SgJdXMhcZ7IM",
        "outputId": "592665dd-fbad-42e2-d311-7251bd0abdd5"
      },
      "execution_count": null,
      "outputs": [
        {
          "output_type": "stream",
          "name": "stdout",
          "text": [
            "{'c', 'a', 'b'}\n"
          ]
        }
      ]
    },
    {
      "cell_type": "markdown",
      "source": [
        "#17. Clear all elements from the set {1, 2, 3, 4, 5}.\n"
      ],
      "metadata": {
        "id": "dajdEw6LZ-AI"
      }
    },
    {
      "cell_type": "code",
      "source": [
        "my_set = {1, 2, 3, 4, 5}\n",
        "my_set.clear()\n",
        "print(my_set)  # Output: set()\n"
      ],
      "metadata": {
        "colab": {
          "base_uri": "https://localhost:8080/"
        },
        "id": "Ji2Yq6rqaBq8",
        "outputId": "f76856fe-c0a2-463b-a1d2-f74dde48e0b5"
      },
      "execution_count": null,
      "outputs": [
        {
          "output_type": "stream",
          "name": "stdout",
          "text": [
            "set()\n"
          ]
        }
      ]
    },
    {
      "cell_type": "markdown",
      "source": [
        "#18. Remove element 4 from the set {1, 2, 3, 4}.\n"
      ],
      "metadata": {
        "id": "UGVhCKJgaFPb"
      }
    },
    {
      "cell_type": "code",
      "source": [
        "my_set = {1, 2, 3, 4}\n",
        "my_set.remove(4)\n",
        "print(my_set)\n"
      ],
      "metadata": {
        "colab": {
          "base_uri": "https://localhost:8080/"
        },
        "id": "uPSDN1YeaIXm",
        "outputId": "aa607ce8-6691-4dc5-ade7-c4494044f276"
      },
      "execution_count": null,
      "outputs": [
        {
          "output_type": "stream",
          "name": "stdout",
          "text": [
            "{1, 2, 3}\n"
          ]
        }
      ]
    },
    {
      "cell_type": "markdown",
      "source": [
        "#19. Find the union of sets {1, 2, 3} and {3, 4, 5}.\n"
      ],
      "metadata": {
        "id": "0UPkp8ItaOtY"
      }
    },
    {
      "cell_type": "code",
      "source": [
        "set1 = {1, 2, 3}\n",
        "set2 = {3, 4, 5}\n",
        "union_set = set1.union(set2)\n",
        "print(union_set)  # Output: {1, 2, 3, 4, 5}\n"
      ],
      "metadata": {
        "colab": {
          "base_uri": "https://localhost:8080/"
        },
        "id": "zelYQ_7uaT_l",
        "outputId": "90c71cf3-5eb1-4e6f-ed6d-50af7fe8a02d"
      },
      "execution_count": null,
      "outputs": [
        {
          "output_type": "stream",
          "name": "stdout",
          "text": [
            "{1, 2, 3, 4, 5}\n"
          ]
        }
      ]
    },
    {
      "cell_type": "markdown",
      "source": [
        "#20. Find the intersection of sets {1, 2, 3} and {2, 3, 4}."
      ],
      "metadata": {
        "id": "DH98t07aaWpG"
      }
    },
    {
      "cell_type": "code",
      "source": [
        "set1 = {1, 2, 3}\n",
        "set2 = {2, 3, 4}\n",
        "intersection_set = set1.intersection(set2)\n",
        "print(intersection_set)  # Output: {2, 3}\n"
      ],
      "metadata": {
        "colab": {
          "base_uri": "https://localhost:8080/"
        },
        "id": "sm5DjA2gabex",
        "outputId": "d7507f04-2fde-4a45-8066-514352116fd1"
      },
      "execution_count": null,
      "outputs": [
        {
          "output_type": "stream",
          "name": "stdout",
          "text": [
            "{2, 3}\n"
          ]
        }
      ]
    },
    {
      "cell_type": "markdown",
      "source": [
        "#21. Create a dictionary with keys \"name\", \"age\", and \"city\" and print it."
      ],
      "metadata": {
        "id": "kkcecvt_aecr"
      }
    },
    {
      "cell_type": "code",
      "source": [
        "my_dict = {\"name\": \"Aman\", \"age\": 25, \"city\": \"New York\"}\n",
        "print(my_dict)\n"
      ],
      "metadata": {
        "colab": {
          "base_uri": "https://localhost:8080/"
        },
        "id": "x006ADd_aiik",
        "outputId": "f414ee51-d795-4caa-fd59-8cfbe4fe8891"
      },
      "execution_count": null,
      "outputs": [
        {
          "output_type": "stream",
          "name": "stdout",
          "text": [
            "{'name': 'Aman', 'age': 25, 'city': 'New York'}\n"
          ]
        }
      ]
    },
    {
      "cell_type": "markdown",
      "source": [
        "#22. Add a new key-value pair \"country\": \"USA\" to {'name': 'John', 'age': 25}.\n"
      ],
      "metadata": {
        "id": "b6qNO1Ezaqk9"
      }
    },
    {
      "cell_type": "code",
      "source": [
        "my_dict = {'name': 'John', 'age': 25}\n",
        "my_dict[\"country\"] = \"USA\"\n",
        "print(my_dict)\n"
      ],
      "metadata": {
        "colab": {
          "base_uri": "https://localhost:8080/"
        },
        "id": "oDRvrxh6awZR",
        "outputId": "58117c16-c07b-47ab-ebe7-7dcecb62cac9"
      },
      "execution_count": null,
      "outputs": [
        {
          "output_type": "stream",
          "name": "stdout",
          "text": [
            "{'name': 'John', 'age': 25, 'country': 'USA'}\n"
          ]
        }
      ]
    },
    {
      "cell_type": "markdown",
      "source": [
        "#23. Access the value associated with key \"name\" in {'name': 'Alice', 'age': 30}.\n"
      ],
      "metadata": {
        "id": "2WCVvlAda0cO"
      }
    },
    {
      "cell_type": "code",
      "source": [
        "my_dict = {'name': 'Alice', 'age': 30}\n",
        "print(my_dict[\"name\"])  # Output: Alice\n"
      ],
      "metadata": {
        "colab": {
          "base_uri": "https://localhost:8080/"
        },
        "id": "VInGq2XWa4Qs",
        "outputId": "7016eedb-0aaa-47bf-85b7-419bd55ff68c"
      },
      "execution_count": null,
      "outputs": [
        {
          "output_type": "stream",
          "name": "stdout",
          "text": [
            "Alice\n"
          ]
        }
      ]
    },
    {
      "cell_type": "markdown",
      "source": [
        "#24. Remove key \"age\" from {'name': 'Bob', 'age': 22, 'city': 'New York'}.\n"
      ],
      "metadata": {
        "id": "z_EtonjCa65i"
      }
    },
    {
      "cell_type": "code",
      "source": [
        "my_dict = {'name': 'Bob', 'age': 22, 'city': 'New York'}\n",
        "del my_dict[\"age\"]\n",
        "print(my_dict)\n"
      ],
      "metadata": {
        "colab": {
          "base_uri": "https://localhost:8080/"
        },
        "id": "N6Ahu39sbBtU",
        "outputId": "b944e07b-dfd9-4d87-d650-9e23a93fc191"
      },
      "execution_count": null,
      "outputs": [
        {
          "output_type": "stream",
          "name": "stdout",
          "text": [
            "{'name': 'Bob', 'city': 'New York'}\n"
          ]
        }
      ]
    },
    {
      "cell_type": "markdown",
      "source": [
        "#25. Check if key \"city\" exists in {'name': 'Alice', 'city': 'Paris'}.\n"
      ],
      "metadata": {
        "id": "BUP-4CULbEsC"
      }
    },
    {
      "cell_type": "code",
      "source": [
        "my_dict = {'name': 'Alice', 'city': 'Paris'}\n",
        "print(\"city\" in my_dict)  # Output: True\n"
      ],
      "metadata": {
        "colab": {
          "base_uri": "https://localhost:8080/"
        },
        "id": "gB3-l_ztbHeP",
        "outputId": "3cc2686c-a2aa-4c89-aa20-9541ecaa6b70"
      },
      "execution_count": null,
      "outputs": [
        {
          "output_type": "stream",
          "name": "stdout",
          "text": [
            "True\n"
          ]
        }
      ]
    },
    {
      "cell_type": "markdown",
      "source": [
        "#26. Create a list, a tuple, and a dictionary, and print them.\n"
      ],
      "metadata": {
        "id": "UmBrtd0tbKjz"
      }
    },
    {
      "cell_type": "code",
      "source": [
        "my_list = [1, 2, 3]\n",
        "my_tuple = (4, 5, 6)\n",
        "my_dict = {\"a\": 10, \"b\": 20}\n",
        "print(my_list, my_tuple, my_dict)\n"
      ],
      "metadata": {
        "colab": {
          "base_uri": "https://localhost:8080/"
        },
        "id": "V04ILca0bMTt",
        "outputId": "1df24777-ea84-4608-fc05-cedc1cfc1314"
      },
      "execution_count": null,
      "outputs": [
        {
          "output_type": "stream",
          "name": "stdout",
          "text": [
            "[1, 2, 3] (4, 5, 6) {'a': 10, 'b': 20}\n"
          ]
        }
      ]
    },
    {
      "cell_type": "markdown",
      "source": [
        "#27. Create a list of 5 random numbers between 1 and 100, sort it, and print the result.\n"
      ],
      "metadata": {
        "id": "RPFqE2dPbOSn"
      }
    },
    {
      "cell_type": "code",
      "source": [
        "import random\n",
        "random_list = random.sample(range(1, 101), 5)\n",
        "random_list.sort()\n",
        "print(random_list)\n"
      ],
      "metadata": {
        "colab": {
          "base_uri": "https://localhost:8080/"
        },
        "id": "z7QyIHmGbUTb",
        "outputId": "84355bff-e1d7-4824-da8f-7feac6d38716"
      },
      "execution_count": null,
      "outputs": [
        {
          "output_type": "stream",
          "name": "stdout",
          "text": [
            "[23, 65, 71, 78, 97]\n"
          ]
        }
      ]
    },
    {
      "cell_type": "markdown",
      "source": [
        "#28. Create a list with strings and print the element at the third index.\n"
      ],
      "metadata": {
        "id": "YvhvpfPIbZkv"
      }
    },
    {
      "cell_type": "code",
      "source": [
        "my_list = [\"apple\", \"banana\", \"cherry\", \"date\"]\n",
        "print(my_list[3])\n"
      ],
      "metadata": {
        "colab": {
          "base_uri": "https://localhost:8080/"
        },
        "id": "ZK_Drq_5bbXw",
        "outputId": "c8db9127-a067-4dbf-cdce-1c170f647b4a"
      },
      "execution_count": null,
      "outputs": [
        {
          "output_type": "stream",
          "name": "stdout",
          "text": [
            "date\n"
          ]
        }
      ]
    },
    {
      "cell_type": "markdown",
      "source": [
        "#29. Combine two dictionaries into one and print the result.\n"
      ],
      "metadata": {
        "id": "wuUEV9R5bd7b"
      }
    },
    {
      "cell_type": "code",
      "source": [
        "dict1 = {\"name\": \"Alice\", \"age\": 25}\n",
        "dict2 = {\"city\": \"New York\", \"country\": \"USA\"}\n",
        "combined_dict = {**dict1, **dict2}\n",
        "print(combined_dict)\n"
      ],
      "metadata": {
        "colab": {
          "base_uri": "https://localhost:8080/"
        },
        "id": "45tNNmtQbg4X",
        "outputId": "42af5b51-e7cb-461e-b455-98b305a6d867"
      },
      "execution_count": null,
      "outputs": [
        {
          "output_type": "stream",
          "name": "stdout",
          "text": [
            "{'name': 'Alice', 'age': 25, 'city': 'New York', 'country': 'USA'}\n"
          ]
        }
      ]
    },
    {
      "cell_type": "markdown",
      "source": [
        "#30. Convert a list of strings into a set.\n"
      ],
      "metadata": {
        "id": "dTNk0hnpbjm6"
      }
    },
    {
      "cell_type": "code",
      "source": [
        "my_list = [\"apple\", \"banana\", \"cherry\", \"apple\"]\n",
        "my_set = set(my_list)\n",
        "print(my_set)  # Output: {'apple', 'banana', 'cherry'}\n"
      ],
      "metadata": {
        "colab": {
          "base_uri": "https://localhost:8080/"
        },
        "id": "qSB2XcuSbmX9",
        "outputId": "d5ce3ae8-2228-482b-fc33-c87c6b989257"
      },
      "execution_count": null,
      "outputs": [
        {
          "output_type": "stream",
          "name": "stdout",
          "text": [
            "{'banana', 'cherry', 'apple'}\n"
          ]
        }
      ]
    }
  ]
}